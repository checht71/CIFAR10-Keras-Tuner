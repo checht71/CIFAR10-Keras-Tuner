{
  "cells": [
    {
      "cell_type": "code",
      "execution_count": 40,
      "metadata": {
        "id": "L0ogpinXDv0Q",
        "metadata": {}
      },
      "outputs": [],
      "source": [
        "import tensorflow as tf\n",
        "from keras.callbacks import TensorBoard\n",
        "from tensorflow.keras.preprocessing.image import ImageDataGenerator\n",
        "from tensorflow.keras.applications.resnet50 import ResNet50"
      ]
    },
    {
      "cell_type": "code",
      "execution_count": 41,
      "metadata": {
        "metadata": {}
      },
      "outputs": [],
      "source": [
        "DATA_DIR = \"/media/christian/USB STICK/Images/Subset\"\n",
        "seed = 10\n",
        "image_width = 1920\n",
        "image_height = 1090\n",
        "im_shape = (image_width, image_height)\n",
        "BATCH_SIZE = 4"
      ]
    },
    {
      "cell_type": "code",
      "execution_count": 42,
      "metadata": {
        "metadata": {}
      },
      "outputs": [],
      "source": [
        "data_generator = ImageDataGenerator(\n",
        "        validation_split=0.2,\n",
        "        # width_shift_range=0.2,\n",
        "        # height_shift_range=0.2,\n",
        "        rescale=1./255,\n",
        "        # shear_range=0.2,\n",
        "        zoom_range=0.1,\n",
        "        rotation_range=20,\n",
        "        horizontal_flip=True,\n",
        "        fill_mode='nearest'\n",
        ")"
      ]
    },
    {
      "cell_type": "code",
      "execution_count": null,
      "metadata": {
        "id": "to_Qwva7D5Yr",
        "metadata": {}
      },
      "outputs": [],
      "source": [
        "train_generator = data_generator.flow_from_directory(DATA_DIR, target_size=im_shape, shuffle=True, seed=seed,\n",
        "                                                     class_mode='categorical', batch_size=BATCH_SIZE, subset=\"training\")\n",
        "validation_generator = data_generator.flow_from_directory(DATA_DIR, target_size=im_shape, shuffle=False, seed=seed,\n",
        "                                                     class_mode='categorical', batch_size=BATCH_SIZE, subset=\"validation\")\n",
        "\n",
        "\n",
        "nb_train_samples = train_generator.samples\n",
        "nb_validation_samples = validation_generator.samples\n",
        "classes = list(train_generator.class_indices.keys())\n",
        "print('Classes: '+str(classes))\n",
        "num_classes  = len(classes)"
      ]
    },
    {
      "cell_type": "code",
      "execution_count": 45,
      "metadata": {
        "metadata": {}
      },
      "outputs": [],
      "source": [
        "from collections import Counter\n",
        "counter = Counter(train_generator.classes)\n",
        "max_val = float(max(counter.values()))\n",
        "class_weights = {class_id : nb_train_samples/(num_images * num_classes) for class_id, num_images in counter.items()}\n",
        "     "
      ]
    },
    {
      "cell_type": "markdown",
      "metadata": {
        "id": "JCq5itiWHnm8"
      },
      "source": [
        "The code below defines the layers and the hyperparameters to be tuned, as well as the parameters for tuning the hyperparameters."
      ]
    },
    {
      "cell_type": "code",
      "execution_count": 46,
      "metadata": {
        "metadata": {}
      },
      "outputs": [],
      "source": [
        "import keras_tuner as kt\n",
        "tuner = kt.tuners.BayesianOptimization(\n",
        "  kt.applications.HyperResNet(input_shape=(image_width,image_height,3), classes=4),\n",
        "  objective='val_accuracy',\n",
        "  max_trials=50)"
      ]
    },
    {
      "cell_type": "code",
      "execution_count": 47,
      "metadata": {
        "id": "wzR5w23GHT5X",
        "metadata": {}
      },
      "outputs": [],
      "source": [
        "stop_early = tf.keras.callbacks.EarlyStopping(monitor='val_loss', patience=3)\n",
        "#this will stop the training if the model's val_loss does not improve over 3\n",
        "#consecutive epochs"
      ]
    },
    {
      "cell_type": "code",
      "execution_count": null,
      "metadata": {
        "id": "4aewez5HH4JZ",
        "metadata": {}
      },
      "outputs": [],
      "source": [
        "tuner.search(train_generator, epochs=10, validation_data=validation_generator,\n",
        "             callbacks=[TensorBoard(\"/tmp/tb_logs\")])"
      ]
    },
    {
      "cell_type": "code",
      "execution_count": null,
      "metadata": {
        "id": "s0oJAQQ1YX5E"
      },
      "outputs": [],
      "source": [
        "best_hps = tuner.get_best_hyperparameters(num_trials=3)\n",
        "print(\"Best run:\")\n",
        "print(best_hps[0].values)\n",
        "print(\"2nd best run:\")\n",
        "print(best_hps[1].values)\n",
        "print(\"3rd best run:\")\n",
        "print(best_hps[2].values)"
      ]
    },
    {
      "cell_type": "code",
      "execution_count": null,
      "metadata": {
        "id": "SCNhICDXYftW"
      },
      "outputs": [],
      "source": [
        "model = tuner.hypermodel.build(best_hps[0])"
      ]
    },
    {
      "cell_type": "code",
      "execution_count": null,
      "metadata": {
        "id": "hgUOuLW0Yj1s"
      },
      "outputs": [],
      "source": [
        "history = model.fit(X_train, y_train, epochs=10, validation_split=0.2,\n",
        "                    callbacks=[stop_early])"
      ]
    },
    {
      "cell_type": "markdown",
      "metadata": {
        "id": "7x_X7RIyYdgb"
      },
      "source": [
        "Best model: val_acc"
      ]
    },
    {
      "cell_type": "code",
      "execution_count": null,
      "metadata": {
        "id": "3Uy43zJXkC-7"
      },
      "outputs": [],
      "source": [
        "%load_ext tensorboard\n",
        "\n",
        "%tensorboard --logdir /tmp/tb_logs"
      ]
    },
    {
      "cell_type": "code",
      "execution_count": null,
      "metadata": {
        "id": "coz0s500LQsr"
      },
      "outputs": [],
      "source": [
        "!zip -r tensorboard_logs.zip /tmp/tb_logs"
      ]
    },
    {
      "cell_type": "code",
      "execution_count": null,
      "metadata": {
        "id": "zu9Sln0YLUGl"
      },
      "outputs": [],
      "source": []
    }
  ],
  "metadata": {
    "accelerator": "GPU",
    "colab": {
      "gpuType": "T4",
      "provenance": []
    },
    "kernelspec": {
      "display_name": "Python 3",
      "name": "python3"
    },
    "language_info": {
      "codemirror_mode": {
        "name": "ipython",
        "version": 3
      },
      "file_extension": ".py",
      "mimetype": "text/x-python",
      "name": "python",
      "nbconvert_exporter": "python",
      "pygments_lexer": "ipython3",
      "version": "3.12.2"
    }
  },
  "nbformat": 4,
  "nbformat_minor": 0
}
