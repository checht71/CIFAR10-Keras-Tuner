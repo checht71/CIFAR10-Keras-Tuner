{
  "nbformat": 4,
  "nbformat_minor": 0,
  "metadata": {
    "colab": {
      "provenance": []
    },
    "kernelspec": {
      "name": "python3",
      "display_name": "Python 3"
    },
    "language_info": {
      "name": "python"
    }
  },
  "cells": [
    {
      "cell_type": "code",
      "execution_count": 1,
      "metadata": {
        "id": "L0ogpinXDv0Q"
      },
      "outputs": [],
      "source": [
        "import tensorflow as tf"
      ]
    },
    {
      "cell_type": "code",
      "source": [
        "!pip install -q -U keras-tuner"
      ],
      "metadata": {
        "id": "WAQRcu5-D2n2"
      },
      "execution_count": 2,
      "outputs": []
    },
    {
      "cell_type": "code",
      "source": [
        "(X_train, y_train), (X_test, y_test) = tf.keras.datasets.cifar10.load_data()\n",
        "\n",
        "X_train = X_train / 255.0\n",
        "X_test = X_test / 255.0"
      ],
      "metadata": {
        "id": "to_Qwva7D5Yr"
      },
      "execution_count": 3,
      "outputs": []
    },
    {
      "cell_type": "markdown",
      "source": [
        "The code below defines the layers and the hyperparameters to be tuned, as well as the parameters for tuning the hyperparameters."
      ],
      "metadata": {
        "id": "JCq5itiWHnm8"
      }
    },
    {
      "cell_type": "code",
      "source": [
        "print(X_train.shape)"
      ],
      "metadata": {
        "colab": {
          "base_uri": "https://localhost:8080/"
        },
        "id": "SlBQTK4ZxP2N",
        "outputId": "1dfbf031-5ba7-44d4-84f3-06da57d111b9"
      },
      "execution_count": 4,
      "outputs": [
        {
          "output_type": "stream",
          "name": "stdout",
          "text": [
            "(50000, 32, 32, 3)\n"
          ]
        }
      ]
    },
    {
      "cell_type": "code",
      "source": [
        "alt_model = False"
      ],
      "metadata": {
        "id": "6yTOQoe_87Ds"
      },
      "execution_count": 5,
      "outputs": []
    },
    {
      "cell_type": "code",
      "source": [
        "if alt_model == False:\n",
        "  def model_builder(hp):\n",
        "      model = tf.keras.Sequential()\n",
        "\n",
        "\n",
        "      hp_initial_learning_rate = hp.Choice('learning_rate',\n",
        "                                           values=[0.01, 0.001, 0.0001])\n",
        "      hp_decay_rate = hp.Float('decay_rate', min_value=0.9, max_value=0.98,\n",
        "                             step=0.01)\n",
        "      lr_schedule = tf.keras.optimizers.schedules.ExponentialDecay(\n",
        "        hp_initial_learning_rate,\n",
        "        decay_steps=100000,\n",
        "        decay_rate=hp_decay_rate,\n",
        "        staircase=True)\n",
        "\n",
        "      #Conv\n",
        "      hp_activation = hp.Choice('activation', values=['relu', 'tanh'])\n",
        "      hp_kernel_size = hp.Int('kernel_size', min_value=1, max_value=6, step=1)\n",
        "      hp_filters = hp.Int('filters', min_value=1, max_value=64, step = 8)\n",
        "\n",
        "      model.add(tf.keras.layers.Conv2D(filters=hp_filters,\n",
        "                                       kernel_size=(hp_kernel_size, hp_kernel_size),\n",
        "                                       activation=hp_activation,\n",
        "                                       input_shape=(32, 32, 3)))\n",
        "      model.add(tf.keras.layers.Flatten())\n",
        "\n",
        "\n",
        "      #Dense\n",
        "\n",
        "      hp_layer_1 = hp.Int('layer_1', min_value=1, max_value=1000, step=100)\n",
        "      hp_layer_2 = hp.Int('layer_2', min_value=1, max_value=1000, step=100)\n",
        "\n",
        "\n",
        "      model.add(tf.keras.layers.Dense(units=hp_layer_1, activation=hp_activation))\n",
        "      model.add(tf.keras.layers.Dense(units=hp_layer_2, activation=hp_activation))\n",
        "      model.add(tf.keras.layers.Dense(10, activation='softmax'))\n",
        "\n",
        "      model.compile(optimizer=tf.keras.optimizers.Adam(learning_rate=lr_schedule),\n",
        "                    loss=tf.keras.losses.SparseCategoricalCrossentropy(),\n",
        "                    metrics=['accuracy'])\n",
        "\n",
        "      return model\n"
      ],
      "metadata": {
        "id": "IVXb_JtnEHO-"
      },
      "execution_count": 6,
      "outputs": []
    },
    {
      "cell_type": "code",
      "source": [
        "if alt_model:\n",
        "  def model_builder(hp):\n",
        "      model = tf.keras.Sequential()\n",
        "      model.add(tf.keras.layers.Conv2D(filters=12, kernel_size=(3, 3), activation='relu', input_shape=(32, 32, 3)))\n",
        "\n",
        "      model.compile(optimizer=tf.keras.optimizers.Adam(learning_rate=hp_learning_rate),\n",
        "                    loss=tf.keras.losses.SparseCategoricalCrossentropy(),\n",
        "                    metrics=['accuracy'])\n",
        "\n",
        "\n",
        "      return model\n"
      ],
      "metadata": {
        "id": "bIa1IU5k8FvE"
      },
      "execution_count": 7,
      "outputs": []
    },
    {
      "cell_type": "code",
      "source": [
        "import keras_tuner as kt\n",
        "\n",
        "tuner = kt.Hyperband(model_builder,\n",
        "                     objective='val_accuracy',\n",
        "                     max_epochs=10,\n",
        "                     factor=3,\n",
        "                     directory='dir',\n",
        "                     project_name='mnist')"
      ],
      "metadata": {
        "id": "9F-uNEjnGw4d",
        "colab": {
          "base_uri": "https://localhost:8080/"
        },
        "outputId": "4023e546-0836-4683-c37c-6dc1fd1e3b58"
      },
      "execution_count": 8,
      "outputs": [
        {
          "output_type": "stream",
          "name": "stdout",
          "text": [
            "Reloading Tuner from dir/mnist/tuner0.json\n"
          ]
        }
      ]
    },
    {
      "cell_type": "code",
      "source": [
        "stop_early = tf.keras.callbacks.EarlyStopping(monitor='val_loss', patience=3)\n",
        "#this will stop the training if the model's val_loss does not improve over 3\n",
        "#consecutive epochs"
      ],
      "metadata": {
        "id": "wzR5w23GHT5X"
      },
      "execution_count": 9,
      "outputs": []
    },
    {
      "cell_type": "markdown",
      "source": [
        "Conv layers kernel is fixed: 3x3"
      ],
      "metadata": {
        "id": "7IKqFT0pNCy1"
      }
    },
    {
      "cell_type": "code",
      "source": [
        "tuner.search(X_train, y_train, epochs=20, batch_size=200, validation_split=0.2, callbacks=[stop_early])"
      ],
      "metadata": {
        "colab": {
          "base_uri": "https://localhost:8080/"
        },
        "id": "4aewez5HH4JZ",
        "outputId": "546c2dbb-5da1-4343-d42b-cc344eb2f982"
      },
      "execution_count": null,
      "outputs": [
        {
          "output_type": "stream",
          "name": "stdout",
          "text": [
            "\n",
            "Search: Running Trial #3\n",
            "\n",
            "Value             |Best Value So Far |Hyperparameter\n",
            "relu              |relu              |activation\n",
            "301               |301               |layer_1\n",
            "201               |201               |layer_2\n",
            "0.001             |0.001             |learning_rate\n",
            "2                 |2                 |tuner/epochs\n",
            "0                 |0                 |tuner/initial_epoch\n",
            "2                 |2                 |tuner/bracket\n",
            "0                 |0                 |tuner/round\n",
            "\n",
            "Epoch 1/2\n",
            "200/200 [==============================] - 22s 71ms/step - loss: 2.0727 - accuracy: 0.2455 - val_loss: 1.9487 - val_accuracy: 0.3041\n",
            "Epoch 2/2\n",
            "110/200 [===============>..............] - ETA: 2s - loss: 1.9065 - accuracy: 0.3237"
          ]
        }
      ]
    },
    {
      "cell_type": "code",
      "source": [
        "best_hps = tuner.get_best_hyperparameters(num_trials=1)[0]"
      ],
      "metadata": {
        "id": "s0oJAQQ1YX5E"
      },
      "execution_count": null,
      "outputs": []
    },
    {
      "cell_type": "code",
      "source": [
        "model = tuner.hypermodel.build(best_hps)"
      ],
      "metadata": {
        "id": "SCNhICDXYftW"
      },
      "execution_count": null,
      "outputs": []
    },
    {
      "cell_type": "code",
      "source": [
        "history = model.fit(X_train, y_train, epochs=10, validation_split=0.2,\n",
        "                    callbacks=[stop_early])"
      ],
      "metadata": {
        "id": "hgUOuLW0Yj1s"
      },
      "execution_count": null,
      "outputs": []
    }
  ]
}